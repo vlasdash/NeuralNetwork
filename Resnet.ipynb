{
 "cells": [
  {
   "cell_type": "code",
   "execution_count": 1,
   "metadata": {
    "id": "pn--IaMeE_e0"
   },
   "outputs": [],
   "source": [
    "import numpy as np\n",
    "import PIL\n",
    "import random\n",
    "from IPython.core.display import Image, display\n",
    "\n",
    "import torch\n",
    "import torch.nn as nn\n",
    "import torch.optim as optim\n",
    "import torch.nn.functional as F\n",
    "\n",
    "import torchvision\n",
    "import torchvision.transforms as transforms\n",
    "import torch.utils.data as data\n",
    "\n",
    "import math\n",
    "\n",
    "import matplotlib.pyplot as plt\n",
    "%matplotlib inline\n",
    "\n",
    "torch.manual_seed(2)\n",
    "np.random.seed(2)\n",
    "\n",
    "# правильно выбирайте карту, иначе все упадет!\n",
    "CUDA_DEVICE=0\n",
    "\n",
    "def data2image(data):\n",
    "    res = np.transpose(np.reshape(data ,(3, 32,32)), (1,2,0))\n",
    "    return PIL.Image.fromarray(np.uint8(res))\n",
    "\n",
    "def imshow(img):\n",
    "    npimg = img.numpy().astype('uint8')\n",
    "    plt.imshow(np.transpose(npimg, (1, 2, 0)))"
   ]
  },
  {
   "cell_type": "code",
   "execution_count": 2,
   "metadata": {
    "id": "EklKHuSDE_e6"
   },
   "outputs": [],
   "source": [
    "class CustomC100Dataset(data.Dataset):\n",
    "    def __init__(self, dataset_path, dataset_type, img_cnt = 50000, transform = None, target_transform = None, indexes=None, valid_size=0):\n",
    "        if dataset_type not in ['train', 'test', 'valid']:\n",
    "            raise \"Unknown dataset type : {}\".format(dataset_type)\n",
    "        self.ds_type = dataset_type\n",
    "        self.ds_path = dataset_path\n",
    "        self.img_cnt = img_cnt\n",
    "        self.transform = transform\n",
    "        self.t_transform = target_transform\n",
    "        self.indexes = indexes\n",
    "        self.valid_size = valid_size\n",
    "        self.__load__()\n",
    "    \n",
    "    def __load__(self):\n",
    "        dataset = np.load(self.ds_path)\n",
    "        \n",
    "        if self.ds_type == 'train' or self.ds_type == 'valid':\n",
    "            dataset = dataset.reshape((self.img_cnt, 3073))\n",
    "            self.y, self.x = np.hsplit(dataset, [1]) \n",
    "            self.y = self.y.astype(np.int64)\n",
    "            self.x = self.x.reshape((self.x.shape[0],3,32,32))\n",
    "            self.x = self.x.transpose((0, 2, 3, 1))\n",
    "        \n",
    "        if self.ds_type == 'train':\n",
    "            self.y = self.y[self.indexes[self.valid_size:]]\n",
    "            self.x = self.x[self.indexes[self.valid_size:]]\n",
    "            self.mean = np.mean(self.x, axis=(0, 1, 2)) / 255.0\n",
    "            self.std = np.std(self.x, axis=(0, 1, 2)) / 255.0\n",
    "            self.transform.transforms.append(transforms.Normalize(self.mean, self.std))\n",
    "\n",
    "        if self.ds_type == 'valid':\n",
    "            self.y = self.y[self.indexes[:self.valid_size]]\n",
    "            self.x = self.x[self.indexes[:self.valid_size]]    \n",
    "        \n",
    "        if self.ds_type == 'test':\n",
    "            dataset = dataset.reshape((self.img_cnt,3072))\n",
    "            self.y = np.zeros((dataset.shape[0], 1), dtype=np.int64)\n",
    "            self.x = dataset.reshape((dataset.shape[0],3,32,32))\n",
    "            self.x = self.x.transpose((0, 2, 3, 1))\n",
    "    \n",
    "    def __getitem__(self, index):\n",
    "        img, target = self.x[index], self.y[index]\n",
    "        \n",
    "        img = PIL.Image.fromarray(img)\n",
    "        \n",
    "        if self.transform is not None:\n",
    "            img = self.transform(img)\n",
    "\n",
    "        if self.t_transform is not None:\n",
    "            target = self.t_transform(target)\n",
    "            \n",
    "        return img, target\n",
    "\n",
    "    \n",
    "    def __len__(self):\n",
    "        return len(self.x)"
   ]
  },
  {
   "cell_type": "code",
   "execution_count": 29,
   "metadata": {},
   "outputs": [],
   "source": [
    "IMG_TRAIN_CNT = 50000\n",
    "IMG_TEST_CNT = 10000\n",
    "\n",
    "valid_share = 0.2\n",
    "valid_size = int(IMG_TRAIN_CNT * valid_share)\n",
    "# индексы данных для отбора валидационных данных\n",
    "indexes = list(range(IMG_TRAIN_CNT)) \n",
    "np.random.shuffle(indexes) "
   ]
  },
  {
   "cell_type": "code",
   "execution_count": 3,
   "metadata": {
    "id": "Gtc8DSV4E_e7"
   },
   "outputs": [],
   "source": [
    "transform_train = transforms.Compose([\n",
    "                transforms.RandomCrop(32, padding=4),\n",
    "                transforms.RandomHorizontalFlip(),\n",
    "                transforms.ToTensor(),\n",
    "    # тут надо сделать аугментации и преобразования для trainset\n",
    "    \n",
    "])\n",
    "\n",
    "transform_test = transforms.Compose([\n",
    "                transforms.ToTensor(),\n",
    "    # тут так же преобразования, но для testset\n",
    "])\n",
    "\n",
    "# подумайте, должны ли преобразования train и test сет быть абсолютно одинаковыми ?\n",
    "\n",
    "train_dataset = CustomC100Dataset('homework_2.train.npy', 'train', img_cnt = IMG_TRAIN_CNT, \n",
    "                                  transform = transform_train, valid_size=valid_size, indexes=indexes)\n",
    "# добавляю нормализацию для тестовых и валидационных данных на основе тренировочных данных\n",
    "transform_test.transforms.append(train_dataset.transform.transforms[3])\n",
    "valid_dataset = CustomC100Dataset('homework_2.train.npy', 'valid', img_cnt = IMG_TRAIN_CNT, \n",
    "                                  transform = transform_test, valid_size=valid_size, indexes=indexes)\n",
    "test_nc_dataset = CustomC100Dataset('homework_2_no_classes.test.npy', 'test', img_cnt = IMG_TEST_CNT, \n",
    "                                    transform = transform_test)"
   ]
  },
  {
   "cell_type": "code",
   "execution_count": 4,
   "metadata": {
    "colab": {
     "base_uri": "https://localhost:8080/",
     "height": 266
    },
    "id": "0xM-1pfgE_e9",
    "outputId": "6fbe3301-6744-46f2-9126-5b124e0320cf"
   },
   "outputs": [
    {
     "data": {
      "image/png": "[encoded data removed]",
      "text/plain": [
       "<Figure size 432x288 with 1 Axes>"
      ]
     },
     "metadata": {
      "needs_background": "light"
     },
     "output_type": "display_data"
    }
   ],
   "source": [
    "img, label = test_nc_dataset[0]\n",
    "imshow(img)"
   ]
  },
  {
   "cell_type": "code",
   "execution_count": 5,
   "metadata": {
    "id": "8ClQ_Vn0E_e-"
   },
   "outputs": [],
   "source": [
    "class BasicBlock(nn.Module):\n",
    "    expansion = 1 \n",
    "\n",
    "    def __init__(self, inplanes, planes, stride=1, downsample=None):\n",
    "        super(BasicBlock, self).__init__()\n",
    "        self.downsample = downsample \n",
    "        self.stride = stride\n",
    "        \n",
    "        self.c1 = nn.Conv2d(inplanes, planes, kernel_size=3, stride=stride, padding=1, bias=False)\n",
    "        self.bn1 = nn.BatchNorm2d(planes)  \n",
    "        self.a1 = nn.ReLU(inplace=True)  \n",
    "        self.c2 = nn.Conv2d(planes, planes, kernel_size=3, stride=1, padding=1, bias=False)\n",
    "        self.bn2 = nn.BatchNorm2d(planes)\n",
    "        self.a2 = nn.ReLU(inplace=True)  \n",
    "\n",
    "    def forward(self, x):\n",
    "        shortcut = x\n",
    "        \n",
    "        x = self.c1(x)\n",
    "        x = self.bn1(x)\n",
    "        x = self.a1(x)\n",
    "        x = self.c2(x)\n",
    "        x = self.bn2(x)\n",
    "        if self.downsample is not None:\n",
    "            shortcut = self.downsample(shortcut)  \n",
    "        x += shortcut\n",
    "        x = self.a2(x) \n",
    "\n",
    "        return x"
   ]
  },
  {
   "cell_type": "code",
   "execution_count": 6,
   "metadata": {
    "id": "Mn7aoArbkC8Q"
   },
   "outputs": [],
   "source": [
    "class BottleNeck(nn.Module):\n",
    "    expansion = 4\n",
    "\n",
    "    def __init__(self, inplanes, planes, stride=1, downsample=None):\n",
    "        super(BottleNeck, self).__init__()\n",
    "        self.downsample = downsample \n",
    "        self.stride = stride\n",
    "\n",
    "        self.c1 = nn.Conv2d(inplanes, planes , kernel_size=1, bias=False)\n",
    "        self.bn1 = nn.BatchNorm2d(planes)\n",
    "        self.a1 = nn.ReLU(inplace=True)  \n",
    "        self.c2 = nn.Conv2d(planes, planes, kernel_size=3, stride=stride, padding=1, bias=False)\n",
    "        self.bn2 = nn.BatchNorm2d(planes)\n",
    "        self.a2 = nn.ReLU(inplace=True)  \n",
    "        self.c3 = nn.Conv2d(planes, planes * self.expansion, kernel_size=1, bias=False)\n",
    "        self.bn3 = nn.BatchNorm2d(planes * self.expansion)  \n",
    "        self.a3 = nn.ReLU(inplace=True)  \n",
    "  \n",
    "\n",
    "    def forward(self, x):\n",
    "        shortcut = x\n",
    "        \n",
    "        x = self.c1(x)\n",
    "        x = self.bn1(x)\n",
    "        x = self.a1(x) \n",
    "        x = self.c2(x)\n",
    "        x = self.bn2(x)\n",
    "        x = self.a2(x) \n",
    "        x = self.c3(x)\n",
    "        x = self.bn3(x) \n",
    "        if self.downsample is not None:\n",
    "            shortcut = self.downsample(shortcut)     \n",
    "        x += shortcut\n",
    "        x = self.a3(x) \n",
    "\n",
    "        return x"
   ]
  },
  {
   "cell_type": "code",
   "execution_count": 7,
   "metadata": {
    "id": "GzAE2MfBE_e_"
   },
   "outputs": [],
   "source": [
    "# чтобы вы не запутались, сборку самой модели предоставляем\n",
    "class ResNet(nn.Module):\n",
    "\n",
    "    def __init__(self, block, layers, num_classes=100):\n",
    "        \n",
    "        super(ResNet, self).__init__()\n",
    "        self.inplanes = 16\n",
    "        self.conv1 = nn.Conv2d(3, self.inplanes, kernel_size=3, \n",
    "                               stride=1, padding=1, bias=False) # вставить сюда стартовую конволюцию из статьи\n",
    "        self.bn1 = nn.BatchNorm2d(self.inplanes)\n",
    "        self.relu = nn.ReLU(inplace=True)\n",
    "        self.layer1 = self._make_layer(block, 16, layers[0]) \n",
    "        self.layer2 = self._make_layer(block, 32, layers[1], stride=2)\n",
    "        self.layer3 = self._make_layer(block, 64, layers[2], stride=2)\n",
    "        self.avgpool = nn.AvgPool2d(8) \n",
    "        self.fc = nn.Linear(64 * block.expansion, num_classes)\n",
    "\n",
    "        for m in self.modules():\n",
    "            if isinstance(m, nn.Conv2d):\n",
    "                torch.nn.init.normal_(m.weight, mean=0, std=1)\n",
    "                # написать инициализацию параметров конволюции\n",
    "            elif isinstance(m, nn.BatchNorm2d):\n",
    "                torch.nn.init.normal_(m.weight, mean=0, std=1)\n",
    "                # инициализация параметров батч-нормализаций\n",
    "\n",
    "    def _make_layer(self, block, planes, blocks, stride=1):\n",
    "        downsample = None\n",
    "        if stride != 1 or self.inplanes != planes * block.expansion:\n",
    "            downsample = nn.Sequential(\n",
    "                nn.Conv2d(self.inplanes, planes * block.expansion, \n",
    "                                    kernel_size=1, stride=stride, bias=False),\n",
    "                nn.BatchNorm2d(planes * block.expansion)\n",
    "                # здесь необходимо привести слои для downsampling в shotrcut соединениях\n",
    "            )\n",
    "        layers = []\n",
    "        layers.append(block(self.inplanes, planes, stride, downsample))\n",
    "        self.inplanes = planes * block.expansion\n",
    "        for _ in range(1, blocks):\n",
    "            layers.append(block(self.inplanes, planes))\n",
    "\n",
    "        return nn.Sequential(*layers)\n",
    "\n",
    "    def forward(self, x):\n",
    "        x = self.conv1(x)\n",
    "        x = self.bn1(x)\n",
    "        x = self.relu(x)\n",
    "\n",
    "        x = self.layer1(x)\n",
    "        x = self.layer2(x)\n",
    "        x = self.layer3(x)\n",
    "\n",
    "        x = self.avgpool(x)\n",
    "        x = x.view(x.size(0), -1)\n",
    "        x = self.fc(x)\n",
    "\n",
    "        return x"
   ]
  },
  {
   "cell_type": "code",
   "execution_count": 8,
   "metadata": {
    "id": "BK-WB3HzE_fA"
   },
   "outputs": [],
   "source": [
    "# Выбирайте любой ResNet\n",
    "\n",
    "def ResNet20():\n",
    "    return ResNet(BasicBlock, [3,3,3], 100)\n",
    "\n",
    "def ResNet32():\n",
    "    return ResNet(BasicBlock, [5,5,5], 100)\n",
    "\n",
    "def ResNet44():\n",
    "    return ResNet(BasicBlock, [7,7,7], 100)\n",
    "\n",
    "def ResNet56():\n",
    "    return ResNet(BottleNeck, [9,9,9], 100)"
   ]
  },
  {
   "cell_type": "code",
   "execution_count": 9,
   "metadata": {
    "id": "Z1VBDwdLE_fB"
   },
   "outputs": [],
   "source": [
    "def validate(model, validation_loader, batch_size):\n",
    "    model.eval()\n",
    "    correct = 0.0\n",
    "    total = 0.0\n",
    "    valid_loss = 0\n",
    "    criterion = nn.CrossEntropyLoss().cuda(CUDA_DEVICE)\n",
    "    \n",
    "    for batch_idx, (inputs, labels) in enumerate(validation_loader):\n",
    "        inputs, labels = inputs.cuda(), labels.view(labels.shape[0]).cuda()\n",
    "        outputs = model(inputs)\n",
    "        loss = criterion(outputs, labels) \n",
    "        valid_loss += loss.data\n",
    "        outputs = F.softmax(outputs, dim=1)\n",
    "        prob, predicted = torch.topk(outputs.data, 1)\n",
    "        total += labels.size(0)\n",
    "        correct += predicted.view(-1).eq(labels.data).sum()\n",
    "        \n",
    "    model.train()\n",
    "    return (correct / total).cpu().item(), (valid_loss / len(validation_loader)).cpu().item()"
   ]
  },
  {
   "cell_type": "code",
   "execution_count": 10,
   "metadata": {
    "id": "y1NcSuJKE_fB"
   },
   "outputs": [],
   "source": [
    "def make_solution_pytorch(model, test_data_loader, batch_size):\n",
    "    res = []\n",
    "    model.eval()\n",
    "    for batch_idx, (inputs, labels) in enumerate(test_data_loader):\n",
    "        inputs, labels = inputs.cuda(), labels.view(labels.shape[0]).cuda()\n",
    "        outputs = model(inputs)\n",
    "        outputs = F.softmax(outputs, dim=1)\n",
    "        prob, predicted = torch.topk(outputs.data, 1)\n",
    "        res = np.append(res, predicted.view(-1).cpu().numpy())\n",
    "    model.train()\n",
    "    return res"
   ]
  },
  {
   "cell_type": "code",
   "execution_count": 11,
   "metadata": {
    "colab": {
     "base_uri": "https://localhost:8080/"
    },
    "id": "AWP8N176E_fD",
    "outputId": "1198e17c-c11e-410c-d61b-75a3db2881ce",
    "scrolled": true
   },
   "outputs": [
    {
     "name": "stdout",
     "output_type": "stream",
     "text": [
      "[0] accuraccy: 0.017999999225139618\n",
      "[1] accuraccy: 0.033799998462200165\n",
      "[2] accuraccy: 0.06079999729990959\n",
      "[3] accuraccy: 0.08859999477863312\n",
      "[4] accuraccy: 0.10799999535083771\n",
      "[5] accuraccy: 0.1306999921798706\n",
      "[6] accuraccy: 0.16329999268054962\n",
      "[7] accuraccy: 0.17839999496936798\n",
      "[8] accuraccy: 0.19900000095367432\n",
      "[9] accuraccy: 0.2505999803543091\n",
      "[10] accuraccy: 0.2797999978065491\n",
      "[11] accuraccy: 0.2883000075817108\n",
      "[12] accuraccy: 0.31029999256134033\n",
      "[13] accuraccy: 0.32889997959136963\n",
      "[14] accuraccy: 0.35169997811317444\n",
      "[15] accuraccy: 0.3700999915599823\n",
      "[16] accuraccy: 0.36479997634887695\n",
      "[17] accuraccy: 0.3962000012397766\n",
      "[18] accuraccy: 0.4226999878883362\n",
      "[19] accuraccy: 0.4355999827384949\n",
      "[20] accuraccy: 0.4226999878883362\n",
      "[21] accuraccy: 0.4343999922275543\n",
      "[22] accuraccy: 0.42719998955726624\n",
      "[23] accuraccy: 0.4553000032901764\n",
      "[24] accuraccy: 0.4607999920845032\n",
      "[25] accuraccy: 0.43369999527931213\n",
      "[26] accuraccy: 0.4912000000476837\n",
      "[27] accuraccy: 0.43549999594688416\n",
      "[28] accuraccy: 0.4875999987125397\n",
      "[29] accuraccy: 0.468999981880188\n",
      "[30] accuraccy: 0.5127999782562256\n",
      "[31] accuraccy: 0.49889999628067017\n",
      "[32] accuraccy: 0.4992999732494354\n",
      "[33] accuraccy: 0.495199978351593\n",
      "[34] accuraccy: 0.49969998002052307\n",
      "[35] accuraccy: 0.5069999694824219\n",
      "[36] accuraccy: 0.5300999879837036\n",
      "[37] accuraccy: 0.5277999639511108\n",
      "[38] accuraccy: 0.5320999622344971\n",
      "[39] accuraccy: 0.5378000140190125\n",
      "[40] accuraccy: 0.5313000082969666\n",
      "[41] accuraccy: 0.5379999876022339\n",
      "[42] accuraccy: 0.5500999689102173\n",
      "[43] accuraccy: 0.5526999831199646\n",
      "[44] accuraccy: 0.525600016117096\n",
      "[45] accuraccy: 0.5643999576568604\n",
      "[46] accuraccy: 0.558899998664856\n",
      "[47] accuraccy: 0.5374000072479248\n",
      "[48] accuraccy: 0.5559999942779541\n",
      "[49] accuraccy: 0.5619999766349792\n",
      "[50] accuraccy: 0.5694999694824219\n",
      "[51] accuraccy: 0.5374999642372131\n",
      "[52] accuraccy: 0.5583999752998352\n",
      "[53] accuraccy: 0.5864999890327454\n",
      "[54] accuraccy: 0.5626999735832214\n",
      "[55] accuraccy: 0.5703999996185303\n",
      "[56] accuraccy: 0.5550999641418457\n",
      "[57] accuraccy: 0.5848999619483948\n",
      "[58] accuraccy: 0.5722000002861023\n",
      "[59] accuraccy: 0.5845000147819519\n",
      "[60] accuraccy: 0.6937999725341797\n",
      "Finished Training\n"
     ]
    }
   ],
   "source": [
    "#Обучение ResNet\n",
    "#Не забудьте вывести графики accuracy (можно использовать acc_check()) и loss при обучении\n",
    "\n",
    "model = ResNet56()\n",
    "model.cuda(CUDA_DEVICE)\n",
    "\n",
    "#all parameters from https://arxiv.org/pdf/1512.03385.pdf\n",
    "epochs_cnt = 65000 # кол-во эпох\n",
    "\n",
    "# эти параметры тоже на ваше усмотрение\n",
    "minibatch_size = 64 \n",
    "valid_batch_size = 32\n",
    "test_batch_size = 64\n",
    "lr = 0.1\n",
    "\n",
    "ACC_TO_STOP = 0.68\n",
    "\n",
    "optimizer = torch.optim.SGD(model.parameters(), lr=lr, nesterov=True, \n",
    "                            momentum=0.9, weight_decay=0.0001) # выбираем отимизатор \n",
    "lr_optim = torch.optim.lr_scheduler.MultiStepLR(optimizer, [60, 100], gamma=0.1)\n",
    "criterion = nn.CrossEntropyLoss().cuda(CUDA_DEVICE)\n",
    "\n",
    "train_loader = torch.utils.data.DataLoader(train_dataset, batch_size = minibatch_size, \n",
    "                                           shuffle = True, num_workers = 4, drop_last = False) \n",
    "test_nc_loader = torch.utils.data.DataLoader(test_nc_dataset, batch_size = test_batch_size, \n",
    "                                             shuffle = False, num_workers = 4, drop_last = False)\n",
    "valid_loader = torch.utils.data.DataLoader(valid_dataset, batch_size = valid_batch_size, \n",
    "                                          shuffle = False, num_workers = 4, drop_last = False)\n",
    "\n",
    "train_losses = []\n",
    "valid_losses = []\n",
    "accuracy_valid = []\n",
    "\n",
    "# примерный код для обучения модели, не обязательно строго следовать ему\n",
    "for epoch in range(epochs_cnt):  \n",
    "    train_loss = 0\n",
    "    \n",
    "    for batch_idx, (inputs, labels) in enumerate(train_loader):\n",
    "        inputs, labels = inputs.cuda(), labels.view(labels.shape[0]).cuda()\n",
    "        optimizer.zero_grad()\n",
    "        outputs = model(inputs)\n",
    "        loss = criterion(outputs, labels) \n",
    "        train_loss += loss.data\n",
    "        loss.backward()\n",
    "        optimizer.step()\n",
    "        \n",
    "    train_losses.append((train_loss / len(train_loader)).cpu().item())\n",
    "    accuracy, valid_loss = validate(model, valid_loader, valid_batch_size)\n",
    "    accuracy_valid.append(accuracy)\n",
    "    valid_losses.append(valid_loss)\n",
    "    print(f'[{epoch}] accuraccy: {accuracy_valid[-1]}')\n",
    "    \n",
    "    lr_optim.step()\n",
    "    \n",
    "    if accuracy_valid[-1] >= ACC_TO_STOP:\n",
    "        break\n",
    "\n",
    "print('Finished Training')"
   ]
  },
  {
   "cell_type": "code",
   "execution_count": 27,
   "metadata": {
    "id": "uf9B0IF_E_fE"
   },
   "outputs": [
    {
     "data": {
      "image/png": "[encoded data removed]",
      "text/plain": [
       "<Figure size 432x288 with 1 Axes>"
      ]
     },
     "metadata": {
      "needs_background": "light"
     },
     "output_type": "display_data"
    }
   ],
   "source": [
    "plt.title(\"Средний loss при обучение и валидации\")\n",
    "plt.plot(train_losses, \"crimson\", linewidth=1.2, label=\"Train\")\n",
    "plt.plot(valid_losses, \"darkblue\", linewidth=1.2, label=\"Validation\")\n",
    "plt.legend(loc=\"upper right\", fontsize=12)\n",
    "plt.show()"
   ]
  },
  {
   "cell_type": "code",
   "execution_count": 28,
   "metadata": {
    "id": "x59ijxq_E_fF"
   },
   "outputs": [
    {
     "data": {
      "image/png": "[encoded data removed]",
      "text/plain": [
       "<Figure size 432x288 with 1 Axes>"
      ]
     },
     "metadata": {
      "needs_background": "light"
     },
     "output_type": "display_data"
    }
   ],
   "source": [
    "plt.title(\"Точность на валидационной выборке\")\n",
    "plt.plot(accuracy_valid, \"darkblue\")\n",
    "plt.show()"
   ]
  },
  {
   "cell_type": "code",
   "execution_count": 14,
   "metadata": {
    "id": "rse0JXDEE_fF"
   },
   "outputs": [],
   "source": [
    "# генерим решение вашей модели\n",
    "solution = make_solution_pytorch(model, test_nc_loader, test_batch_size)\n",
    "with open('my_solution.csv', 'w') as fout:\n",
    "    print('Id', 'Prediction', sep=',', file=fout)\n",
    "    for i, prediction in enumerate(solution):\n",
    "        print(i, int(prediction), sep=',', file=fout)"
   ]
  }
 ],
 "metadata": {
  "accelerator": "GPU",
  "colab": {
   "collapsed_sections": [],
   "name": "Homework_2_Clear.ipynb",
   "provenance": []
  },
  "kernelspec": {
   "display_name": "Python 3",
   "language": "python",
   "name": "python3"
  },
  "language_info": {
   "codemirror_mode": {
    "name": "ipython",
    "version": 3
   },
   "file_extension": ".py",
   "mimetype": "text/x-python",
   "name": "python",
   "nbconvert_exporter": "python",
   "pygments_lexer": "ipython3",
   "version": "3.7.6"
  }
 },
 "nbformat": 4,
 "nbformat_minor": 1
}
